{
  "nbformat": 4,
  "nbformat_minor": 0,
  "metadata": {
    "colab": {
      "provenance": [],
      "gpuType": "T4"
    },
    "kernelspec": {
      "name": "python3",
      "display_name": "Python 3"
    },
    "language_info": {
      "name": "python"
    },
    "accelerator": "GPU"
  },
  "cells": [
    {
      "cell_type": "markdown",
      "source": [
        "# **Installing Necessary Libraries**"
      ],
      "metadata": {
        "id": "cPAbiozth9J8"
      }
    },
    {
      "cell_type": "code",
      "execution_count": null,
      "metadata": {
        "collapsed": true,
        "id": "k98--a2cqCt4"
      },
      "outputs": [],
      "source": [
        "!pip install pytesseract\n",
        "!pip install easyocr\n",
        "!pip install mysql-connector-python\n",
        "!sudo apt-get install tesseract-ocr\n",
        "!pip install pytesseract"
      ]
    },
    {
      "cell_type": "markdown",
      "source": [
        "# **Importing Libraries**"
      ],
      "metadata": {
        "id": "nXqipb0KiTTt"
      }
    },
    {
      "cell_type": "code",
      "source": [
        "import warnings\n",
        "warnings.filterwarnings('ignore')\n",
        "\n",
        "import numpy as np\n",
        "import seaborn as sns\n",
        "import matplotlib.pyplot as plt\n",
        "import cv2\n",
        "import os\n",
        "import requests\n",
        "import pytesseract\n",
        "import easyocr\n",
        "import re\n",
        "import mysql.connector\n",
        "from mysql.connector import Error\n",
        "from PIL import Image\n",
        "from google.colab.patches import cv2_imshow\n",
        "from collections import deque"
      ],
      "metadata": {
        "id": "jJoBMvhaqt8E"
      },
      "execution_count": 3,
      "outputs": []
    },
    {
      "cell_type": "markdown",
      "source": [
        "# **Real-time Traffic Light Color Recognition**"
      ],
      "metadata": {
        "id": "zofxHUcvilt3"
      }
    },
    {
      "cell_type": "markdown",
      "source": [
        "*Region of Interest (ROI): This is where we expect our traffic light to be, and we isolate this portion from the rest to focus our analysis on it.*\n"
      ],
      "metadata": {
        "id": "BCNV5SUyu3IK"
      }
    },
    {
      "cell_type": "code",
      "source": [
        "def detect_traffic_light_color(image, rect):\n",
        "  # Extracting rectangular dimensions\n",
        "  x, y, w, h = rect\n",
        "  # Extracting region of interest(ROI) from the image based on the rectangle\n",
        "  roi = image[y:y+h, x:x+w]\n",
        "\n",
        "  # Converting ROI to HSV color space (To separate color information from intensity)\n",
        "  hsv = cv2.cvtColor(roi, cv2.COLOR_BGR2HSV)\n",
        "\n",
        "  # Defining HSV range for red color\n",
        "  red_lower = np.array([0, 120, 70])\n",
        "  red_upper = np.array([10, 255, 255])\n",
        "\n",
        "  # Defining HSV range for yellow color\n",
        "  yellow_lower = np.array([20, 100, 100])\n",
        "  yellow_upper = np.array([30, 255, 255])\n",
        "\n",
        "  green_lower = np.array([40, 70, 70])\n",
        "  green_upper = np.array([80, 255, 255])\n",
        "\n",
        "\n",
        "  # Create binary masks for detecting red and yellow color by isolating the ROI from rest of the image.\n",
        "  red_mask = cv2.inRange(hsv, red_lower, red_upper)\n",
        "  yellow_mask = cv2.inRange(hsv, yellow_lower, yellow_upper)\n",
        "  green_mask = cv2.inRange(hsv, green_lower, green_upper)\n",
        "\n",
        "  # Font details for overlaying text on the image.\n",
        "  font = cv2.FONT_HERSHEY_SIMPLEX\n",
        "  font_scale = 1\n",
        "  font_thickness = 2\n",
        "\n",
        "  color = None\n",
        "  message = 'Detected Signal Status: Unknown'\n",
        "  text_color = (255, 255, 255)  # Default text color in case none of the masks are found\n",
        "\n",
        "  # Checking which color is present based on the masks\n",
        "  if cv2.countNonZero(red_mask) > 0:\n",
        "    text_color = (0, 0, 255)\n",
        "    messege = \"Detected Signal Status: Stop\"\n",
        "    color = \"red\"\n",
        "  elif cv2.countNonZero(yellow_mask) > 0:\n",
        "    text_color = (0, 255, 255)\n",
        "    message = 'Detected Signal Status: Caution'\n",
        "    color = 'yellow'\n",
        "  elif cv2.countNonZero(green_mask) > 0:\n",
        "    text_color = (0, 255, 0)\n",
        "    message = 'Detected Signal Status: Go'\n",
        "    color = 'green'\n",
        "  # Overlay the detected traffic light status on the main image\n",
        "  cv2.putText(image, message, (15, 70), font, font_scale+0.5, text_color, font_thickness+1, cv2.LINE_AA)\n",
        "\n",
        "  # Adding a seperator line\n",
        "  cv2.putText(image, 34*'-', (10, 115), font, font_scale, (255, 255, 255), font_thickness, cv2.LINE_AA)\n",
        "\n",
        "  # Returning the modified image and detected color\n",
        "  return image, color\n"
      ],
      "metadata": {
        "id": "akLzpTMYq0Kr"
      },
      "execution_count": 4,
      "outputs": []
    },
    {
      "cell_type": "markdown",
      "source": [
        "# **Stop Line Detection**"
      ],
      "metadata": {
        "id": "RcCBw912iq2h"
      }
    },
    {
      "cell_type": "code",
      "source": [
        "class LineDetector:\n",
        "  def __init__(self, num_frames_avg = 10):\n",
        "\n",
        "    # Initialize two deque queues store y-coordinate values across frames\n",
        "    self.y_start_queue = deque(maxlen = num_frames_avg)\n",
        "    self.y_end_queue = deque(maxlen = num_frames_avg)\n",
        "\n",
        "\n",
        "  def detect_white_line(self, frame, color, slope1 = 0.03, intercept1 = 920,\n",
        "                          slope2 = 0.03, intercept2 = 770,\n",
        "                          slope3 = -0.8, intercept3 = 2420):\n",
        "\n",
        "\n",
        "      # Function for mapping color names to corresponding BGR values\n",
        "      def get_color_code(color_name):\n",
        "        color_code = {'red': (0, 0, 255),\n",
        "                      'yellow': (0, 255, 255),\n",
        "                      'green': (0, 255, 0)\n",
        "                      }\n",
        "        return color_code.get(color_name.lower(), (255, 255, 255)) # Default to white if not found\n",
        "\n",
        "      frame_org = frame.copy()\n",
        "\n",
        "      # Line equations for defining region of interest (ROI).\n",
        "\n",
        "      def line1(x): return slope1 * x + intercept1\n",
        "\n",
        "      def line2(x): return slope2 * x + intercept2\n",
        "\n",
        "      def line3(x): return slope3 * x + intercept3\n",
        "\n",
        "      height, width, _ = frame.shape\n",
        "\n",
        "      # Creating a mask for ROI to isolate it from irrelevant regions\n",
        "      mask1 = frame.copy()\n",
        "\n",
        "      # Setting pixels below the first line to black in mask1.\n",
        "      for x in range(width):\n",
        "        y_line = line1(x)\n",
        "        mask1[int(y_line):, x] = 0\n",
        "\n",
        "      mask2 = mask1.copy()\n",
        "\n",
        "      # Setting pixels above the second line to black in mask2.\n",
        "      for x in range(width):\n",
        "        y_line = line2(x)\n",
        "        mask2[:int(y_line), x] = 0\n",
        "\n",
        "      mask3 = mask2.copy()\n",
        "\n",
        "      # Setting pixels to the left of the third line to black in mask 3(final mask)\n",
        "      for x in range(width):\n",
        "        y_line = line3(x)\n",
        "        mask3[int(y_line):, x] = 0\n",
        "\n",
        "      # Convert the mask to grayscale\n",
        "      gray = cv2.cvtColor(mask3, cv2.COLOR_BGR2GRAY)\n",
        "\n",
        "      # Apply Gaussian blur to reduce noise and smoothen the grayscale image.\n",
        "      blurred_gray = cv2.GaussianBlur(gray, (7, 7), 0)\n",
        "\n",
        "      # Applu CLAHE to equalize the histogram and to enhance the local contrast.\n",
        "      clahe = cv2.createCLAHE(clipLimit = 2.0, tileGridSize = (8, 8))\n",
        "      gray_clahe = clahe.apply(blurred_gray) # Prepares the image for edge detection by improving clarity and reducing noise.\n",
        "\n",
        "      # Performes edge detection.\n",
        "      edges = cv2.Canny(gray, 30, 100)\n",
        "\n",
        "      # Performs a dilation and erosion to close gaps in between object edges\n",
        "      dilated_edges = cv2.dilate(edges, None, iterations = 1)\n",
        "      edges = cv2.erode(dilated_edges, None, iterations = 1) # These steps ensures the line segments are continuous.\n",
        "\n",
        "      # Performs Hough Line Transform to detect lines in the edge-detected image.\n",
        "      lines = cv2.HoughLinesP(edges, 1, np.pi / 180, 100, minLineLength = 160, maxLineGap = 50)\n",
        "\n",
        "      x_start = 0\n",
        "      x_end = width - 1\n",
        "\n",
        "      if lines is not None:\n",
        "        for line in lines:\n",
        "          x1, y1, x2, y2 = line[0]\n",
        "\n",
        "          # Calculation slope and intercept of detected line\n",
        "          slope = (y2 - y1) / (x2 - x1 + np.finfo(float).eps) # adding a small number for avoiding division with zero.\n",
        "          intercept = y1 - slope * x1 #These values helps in computing the line’s position and ensure smooth tracking over multiple frames.\n",
        "\n",
        "          # Calculating corresponding y coordinates\n",
        "          y_start = int(slope * x_start + intercept)\n",
        "          y_end = int(slope * x_end + intercept)\n",
        "\n",
        "          # Adding y_start and y_end values to the queues\n",
        "          self.y_start_queue.append(y_start)\n",
        "          self.y_end_queue.append(y_end)\n",
        "\n",
        "      # computing the average y_start and y_end values\n",
        "      avg_y_start = int(sum(self.y_start_queue) / len(self.y_start_queue)) if self.y_start_queue else 0\n",
        "      avg_y_end   = int(sum(self.y_end_queue) / len(self.y_end_queue)) if self.y_end_queue else 0\n",
        "\n",
        "      # Drawing the line\n",
        "      line_start_ratio = 0.32\n",
        "\n",
        "      x_start_adj = x_start + int(line_start_ratio * (x_end - x_start)) # Adjusted x_start\n",
        "      avg_y_start_adj = avg_y_start + int(line_start_ratio * (avg_y_end - avg_y_start))  # Adjusted avg_y_start_adj\n",
        "\n",
        "      # Creating a mask with the same size as the frame and all zeros(black).\n",
        "      mask = np.zeros_like(frame)\n",
        "\n",
        "      # Drawing the line on the mask.\n",
        "      cv2.line(mask, (x_start_adj, avg_y_start_adj), (x_end, avg_y_end), (255, 255, 255), 4)\n",
        "\n",
        "      # Determining which color channel(s) to change based on the color argument.\n",
        "      color_code = get_color_code(color)\n",
        "      if color_code == (0, 255, 0):\n",
        "        channel_indices = [1]\n",
        "      elif color_code == (0, 0, 255):\n",
        "        channel_indices = [2]\n",
        "      elif color_code == (0, 255, 255):  # yellow in BGR is a combination of green and red channels.\n",
        "        channel_indices = [1, 2]\n",
        "\n",
        "      else:\n",
        "        raise ValueError(\"Unsupported Color\")\n",
        "\n",
        "      # Changing the specified color channels of the frame where the mask is white.\n",
        "      for channel_index in channel_indices:\n",
        "        frame[mask[:,:,channel_index] == 255, channel_index] = 255 #Updates the specified color channel in the frame wherever the mask is white.\n",
        "\n",
        "      # Calculate slope and intercept\n",
        "      slope_avg = (avg_y_end - avg_y_start) / (x_end - x_start + np.finfo(float).eps)\n",
        "      intercept_avg = avg_y_start - slope_avg * x_start\n",
        "\n",
        "      mask_line = np.copy(frame_org)\n",
        "\n",
        "      # Creates a masked frame with pixels above the detected line set to black.\n",
        "      for x in range(width):\n",
        "        y_line = slope_avg * x + intercept_avg - 35\n",
        "\n",
        "        mask_line[:int(y_line), x] = 0  # sets pixels above the line to black\n",
        "        '''This mask serves as the second output of our method and plays a pivotal role in subsequent\n",
        "          steps, particularly in isolating license plates of cars positioned below the line—effectively\n",
        "          targeting vehicles that have crossed the stop line during a red light signal. '''\n",
        "      return frame, mask_line\n"
      ],
      "metadata": {
        "id": "8-DezjJzq2KI"
      },
      "execution_count": 5,
      "outputs": []
    },
    {
      "cell_type": "markdown",
      "source": [
        "# **License Plate Extraction**"
      ],
      "metadata": {
        "id": "9BTqFdB-i5om"
      }
    },
    {
      "cell_type": "code",
      "source": [
        "def extract_license_plate(frame, mask_line, license_plate_cascade):\n",
        "    # Converting the image to grayscale\n",
        "    gray = cv2.cvtColor(mask_line, cv2.COLOR_BGR2GRAY)\n",
        "\n",
        "    # Applying CLAHE to equalize the histogram\n",
        "    clahe = cv2.createCLAHE(clipLimit=2.0, tileGridSize=(8, 8))\n",
        "    gray = clahe.apply(gray)\n",
        "\n",
        "    # Eroding the image to reduce noise\n",
        "    kernel = np.ones((2, 2), np.uint8)\n",
        "    gray = cv2.erode(gray, kernel, iterations=1)\n",
        "\n",
        "    # Finding the Bounding Box of Non-Black Pixels\n",
        "    non_black_points = cv2.findNonZero(gray)\n",
        "    if non_black_points is None:\n",
        "        return frame, []  # Return if no non-black points are found\n",
        "\n",
        "    x, y, w, h = cv2.boundingRect(non_black_points)\n",
        "\n",
        "    # Adjusting the Bounding Box Width\n",
        "    w = int(w * 0.7)  # Adjust width to exclude unwanted regions on the right\n",
        "\n",
        "    # Crop the image\n",
        "    cropped_gray = gray[y:y+h, x:x+w]\n",
        "\n",
        "    # Detecting license plates in the image\n",
        "    license_plates = license_plate_cascade.detectMultiScale(\n",
        "        cropped_gray, scaleFactor=1.07, minNeighbors=15, minSize=(20, 20)\n",
        "    )\n",
        "\n",
        "    license_plate_images = []  # List to hold cropped license plate images\n",
        "\n",
        "    # Loop over the license plates\n",
        "    for (x_plate, y_plate, w_plate, h_plate) in license_plates:\n",
        "        # Drawing a rectangle around the license plate in the original frame\n",
        "        cv2.rectangle(frame, (x_plate + x, y_plate + y),\n",
        "                      (x_plate + x + w_plate, y_plate + y + h_plate), (0, 255, 0), 3)\n",
        "\n",
        "        # Crop the license plate and append it to the list\n",
        "        license_plate_image = cropped_gray[y_plate:y_plate + h_plate, x_plate:x_plate + w_plate]\n",
        "        license_plate_images.append(license_plate_image)\n",
        "\n",
        "    return frame, license_plate_images\n"
      ],
      "metadata": {
        "id": "HLErdOnAq5yb"
      },
      "execution_count": 13,
      "outputs": []
    },
    {
      "cell_type": "markdown",
      "source": [
        "# **Text Recognition on License Plates**"
      ],
      "metadata": {
        "id": "0izkpbxKjAnG"
      }
    },
    {
      "cell_type": "code",
      "source": [
        "import easyocr\n",
        "\n",
        "# Initialize the EasyOCR reader (this should be done once, not inside the function)\n",
        "reader = easyocr.Reader(['en'])\n",
        "\n",
        "def apply_ocr_to_image(license_plate_image):\n",
        "    # Threshold the image to create a binary image\n",
        "    _, img = cv2.threshold(license_plate_image, 120, 255, cv2.THRESH_BINARY)\n",
        "\n",
        "    # Convert the OpenCV image format to a format compatible with EasyOCR\n",
        "    # EasyOCR works with numpy arrays directly\n",
        "    # Use the EasyOCR reader to detect text in the image\n",
        "    results = reader.readtext(img)\n",
        "\n",
        "    # Extract text from the results\n",
        "    full_text = \" \".join([result[1] for result in results])  # result[1] contains the text\n",
        "\n",
        "    return full_text.strip()  # Removes any extra white spaces from the ends\n"
      ],
      "metadata": {
        "colab": {
          "base_uri": "https://localhost:8080/"
        },
        "id": "n060jFlWrDBF",
        "outputId": "b901c68b-063f-4ed8-a649-d5bd2b86d79a"
      },
      "execution_count": 7,
      "outputs": [
        {
          "output_type": "stream",
          "name": "stderr",
          "text": [
            "WARNING:easyocr.easyocr:Downloading detection model, please wait. This may take several minutes depending upon your network connection.\n"
          ]
        },
        {
          "output_type": "stream",
          "name": "stdout",
          "text": [
            "Progress: |██████████████████████████████████████████████████| 100.0% Complete"
          ]
        },
        {
          "output_type": "stream",
          "name": "stderr",
          "text": [
            "WARNING:easyocr.easyocr:Downloading recognition model, please wait. This may take several minutes depending upon your network connection.\n"
          ]
        },
        {
          "output_type": "stream",
          "name": "stdout",
          "text": [
            "Progress: |██████████████████████████████████████████████████| 100.0% Complete"
          ]
        }
      ]
    },
    {
      "cell_type": "markdown",
      "source": [
        "# **Display Penalized License Plates**"
      ],
      "metadata": {
        "id": "p_v9kAqGjF_r"
      }
    },
    {
      "cell_type": "code",
      "source": [
        "def draw_penalized_text(frame, penalized_texts):\n",
        "    # Set font, scale, thickness, and color\n",
        "    font = cv2.FONT_HERSHEY_TRIPLEX\n",
        "    font_scale = 1\n",
        "    font_thickness = 2\n",
        "    color = (255, 255, 255)  # White color\n",
        "\n",
        "    # Initial position for Y-coordinate\n",
        "    y_pos = 180\n",
        "\n",
        "    # Put title on the frame\n",
        "    cv2.putText(frame, \"Fined License Plates:\", (25, y_pos), font, font_scale, color, font_thickness)\n",
        "\n",
        "    # Update Y-coordinate position\n",
        "    y_pos += 80\n",
        "\n",
        "    # Check if there are penalized license plates\n",
        "    if not penalized_texts:\n",
        "        cv2.putText(frame, \"No fined plates\", (40, y_pos), font, font_scale, color, font_thickness)\n",
        "        return frame\n",
        "\n",
        "    # Loop through all fined license plates\n",
        "    for text in penalized_texts:\n",
        "        # Add fined license plate text on the frame\n",
        "        cv2.putText(frame, \"->  \"+ text, (40, y_pos), font, font_scale, color, font_thickness)\n",
        "        y_pos += 60  # Update Y-coordinate for next license plate\n",
        "\n",
        "        # Prevent text from going off-screen (optional)\n",
        "        if y_pos > frame.shape[0] - 50:  # Avoid writing text too low\n",
        "            break\n",
        "\n",
        "    return frame\n",
        "\n",
        "# Example usage:\n",
        "# Ensure that 'penalized_texts' is a list of detected license plates.\n"
      ],
      "metadata": {
        "id": "Z_OrrI69rDw6"
      },
      "execution_count": 8,
      "outputs": []
    },
    {
      "cell_type": "markdown",
      "source": [
        "# **Traffic Signal Violation Monitoring Execution**"
      ],
      "metadata": {
        "id": "4mk7TCAVjPR_"
      }
    },
    {
      "cell_type": "code",
      "source": [
        "%%capture\n",
        "# Download the trained Haar Cascade from the GitHub repository\n",
        "url = \"https://raw.githubusercontent.com/FarzadNekouee/Traffic-Violation-Detection/master/haarcascade_russian_plate_number.xml\"\n",
        "response = requests.get(url)\n",
        "\n",
        "with open('haarcascade_russian_plate_number.xml', 'wb') as file:\n",
        "    file.write(response.content)\n",
        "\n",
        "# Load the trained Haar Cascade\n",
        "license_plate_cascade = cv2.CascadeClassifier('haarcascade_russian_plate_number.xml')\n",
        "\n",
        "\n",
        "# Create a list to store unique penalized license plate texts\n",
        "penalized_texts = []"
      ],
      "metadata": {
        "id": "tqd7OxYWrUPa"
      },
      "execution_count": 9,
      "outputs": []
    },
    {
      "cell_type": "code",
      "source": [
        "def main():\n",
        "    penalized_texts = set()  # Initialize the list to store penalized texts\n",
        "    # Open the video file\n",
        "    video_path = r'/content/drive/MyDrive/traffic_video.mp4/traffic_video_modified.mp4'\n",
        "    video = cv2.VideoCapture(video_path)\n",
        "\n",
        "    if not video.isOpened():\n",
        "        print(f\"Error: Could not open video file {video_path}\")\n",
        "        return\n",
        "\n",
        "    # Get video properties for output video\n",
        "    frame_width = int(video.get(cv2.CAP_PROP_FRAME_WIDTH))\n",
        "    frame_height = int(video.get(cv2.CAP_PROP_FRAME_HEIGHT))\n",
        "    fps = video.get(cv2.CAP_PROP_FPS)\n",
        "\n",
        "    # Define the codec and create VideoWriter object\n",
        "    output_path = 'output_video.avi'\n",
        "    out = cv2.VideoWriter(output_path, cv2.VideoWriter_fourcc(*'XVID'), fps, (frame_width, frame_height))\n",
        "\n",
        "    if not out.isOpened():\n",
        "        print(f\"Error: Could not open video writer with path {output_path}\")\n",
        "        return\n",
        "\n",
        "    # Create detector object\n",
        "    detector = LineDetector()\n",
        "\n",
        "    # Loop through each frame in the video\n",
        "    while True:\n",
        "        # Read frame\n",
        "        ret, frame = video.read()\n",
        "\n",
        "        if not ret:\n",
        "            break\n",
        "\n",
        "        # Assuming rect is the rectangle where the traffic light is located\n",
        "        rect = (1700, 40, 100, 250)\n",
        "\n",
        "        # Detect traffic light color\n",
        "        frame, color = detect_traffic_light_color(frame, rect)\n",
        "\n",
        "        # Detect white line\n",
        "        frame, mask_line = detector.detect_white_line(frame, color)\n",
        "\n",
        "        # Process the frame if the light is red\n",
        "        if color == \"red\":\n",
        "            # Extract license plate\n",
        "            frame, license_plate_images = extract_license_plate(frame, mask_line, license_plate_cascade) #license_plate_cascade\"\n",
        "\n",
        "            # Process each detected license plate\n",
        "            for license_plate_image in license_plate_images:\n",
        "\n",
        "                # Apply OCR to each license plate image\n",
        "                text = apply_ocr_to_image(license_plate_image)\n",
        "                # Add the detected license plate to the list if it matches the pattern and is not already in the list\n",
        "                if text and re.match(\"^[A-Z]{2}\\s[0-9]{3,4}$\", text) and text not in penalized_texts:\n",
        "                    penalized_texts.add(text)\n",
        "                    print(f\"\\nFined license plate: {text}\")\n",
        "                    cv2_imshow(license_plate_image)\n",
        "                    # Save the image of the license plate (optional)\n",
        "                    filename = f\"{text}.png\"\n",
        "                    cv2.imwrite(filename, license_plate_image)\n",
        "        # Draw the penalized text onto the frame if there is any\n",
        "        if penalized_texts:\n",
        "            draw_penalized_text(frame, penalized_texts)\n",
        "\n",
        "        # Write the processed frame to the output video\n",
        "        out.write(frame)\n",
        "\n",
        "    # Release the video capture and writer objects\n",
        "    video.release()\n",
        "    out.release()\n",
        "\n",
        "    print(f\"Processed video saved to {output_path}\")\n",
        "    print(list(penalized_texts))\n",
        "# Call the main function to execute the code\n",
        "main()\n"
      ],
      "metadata": {
        "colab": {
          "base_uri": "https://localhost:8080/",
          "height": 155
        },
        "id": "NlTOe7RL3r9N",
        "outputId": "878cd5f7-1a3a-4adf-9fce-beaf62f8b6a3"
      },
      "execution_count": 14,
      "outputs": [
        {
          "output_type": "stream",
          "name": "stdout",
          "text": [
            "\n",
            "Fined license plate: YB 6433\n"
          ]
        },
        {
          "output_type": "display_data",
          "data": {
            "text/plain": [
              "<PIL.Image.Image image mode=L size=199x66>"
            ],
            "image/png": "[encoded data removed]",
            "image/jpeg": "[encoded data removed]"
          },
          "metadata": {}
        },
        {
          "output_type": "stream",
          "name": "stdout",
          "text": [
            "Processed video saved to output_video.avi\n",
            "['YB 6433']\n"
          ]
        }
      ]
    },
    {
      "cell_type": "code",
      "source": [],
      "metadata": {
        "id": "ZtneauYQrhpG"
      },
      "execution_count": null,
      "outputs": []
    }
  ]
}